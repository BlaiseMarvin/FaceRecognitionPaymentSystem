{
  "nbformat": 4,
  "nbformat_minor": 0,
  "metadata": {
    "colab": {
      "name": "FaceNet-Oneshot-Retrained.ipynb",
      "provenance": []
    },
    "kernelspec": {
      "name": "python3",
      "display_name": "Python 3"
    },
    "language_info": {
      "name": "python"
    },
    "accelerator": "GPU"
  },
  "cells": [
    {
      "cell_type": "code",
      "metadata": {
        "id": "cmOiaGKEAGSh"
      },
      "source": [
        "from google.colab import drive\n",
        "drive.mount('/content/drive')"
      ],
      "execution_count": null,
      "outputs": []
    },
    {
      "cell_type": "markdown",
      "metadata": {
        "id": "n1Xfh0HtBsr1"
      },
      "source": [
        "#### Some configs"
      ]
    },
    {
      "cell_type": "code",
      "metadata": {
        "id": "HFVX78YhBPio"
      },
      "source": [
        "import os\n",
        "\n",
        "#specify the shape of the inputs to the network\n",
        "IMG_SHAPE=(160,160,3)\n",
        "\n",
        "#specify the batch size and number of epochs\n",
        "BATCH_SIZE=60\n",
        "EPOCHS=100\n",
        "\n",
        "#define the path to the base output directory\n",
        "BASE_OUTPUT=\"/tmp/output\"\n",
        "\n",
        "#use the base output to derive the path to the serialized\n",
        "#model along with training history plot\n",
        "\n",
        "MODEL_PATH=os.path.sep.join([BASE_OUTPUT,\"siamese_model\"])\n",
        "PLOT_PATH=os.path.sep.join([BASE_OUTPUT,\"plot.png\"])"
      ],
      "execution_count": null,
      "outputs": []
    },
    {
      "cell_type": "code",
      "metadata": {
        "id": "L0jq27OICAcj"
      },
      "source": [
        "#import the necessary packages\n",
        "\n",
        "from tensorflow.keras.models import Model\n",
        "from tensorflow.keras.layers import Input\n",
        "from tensorflow.keras.layers import Conv2D\n",
        "from tensorflow.keras.layers import Dense\n",
        "from tensorflow.keras.layers import Dropout\n",
        "from tensorflow.keras.layers import GlobalAveragePooling2D\n",
        "from tensorflow.keras.layers import MaxPooling2D"
      ],
      "execution_count": null,
      "outputs": []
    },
    {
      "cell_type": "code",
      "metadata": {
        "id": "ilclONXEv596"
      },
      "source": [
        "\n",
        "from tensorflow.keras.models import load_model"
      ],
      "execution_count": null,
      "outputs": []
    },
    {
      "cell_type": "code",
      "metadata": {
        "colab": {
          "base_uri": "https://localhost:8080/"
        },
        "id": "A5W9k_3ZwMG-",
        "outputId": "33f3ca5f-ce00-4677-df27-e3a7670a3292"
      },
      "source": [
        "faceNet=load_model('/content/drive/MyDrive/Datasets/facenet_keras.h5')"
      ],
      "execution_count": null,
      "outputs": [
        {
          "output_type": "stream",
          "text": [
            "WARNING:tensorflow:No training configuration found in the save file, so the model was *not* compiled. Compile it manually.\n"
          ],
          "name": "stdout"
        }
      ]
    },
    {
      "cell_type": "code",
      "metadata": {
        "id": "57E1oRPQwnBE"
      },
      "source": [
        "faceNet.load_weights('/content/drive/MyDrive/Datasets/facenet_keras_weights.h5')"
      ],
      "execution_count": null,
      "outputs": []
    },
    {
      "cell_type": "code",
      "metadata": {
        "id": "AuS3yo34M2dD"
      },
      "source": [
        "for layer in faceNet.layers:\n",
        "  layer.trainable=False"
      ],
      "execution_count": null,
      "outputs": []
    },
    {
      "cell_type": "markdown",
      "metadata": {
        "id": "hZAytfgqCH76"
      },
      "source": [
        "#### Build a siamese model for constructing sister networks"
      ]
    },
    {
      "cell_type": "code",
      "metadata": {
        "id": "gd3J-2z3CEA3"
      },
      "source": [
        "from tensorflow.keras import layers\n",
        "def build_siamese_model(inputShape,embeddingDim=128):\n",
        "  #specify the inputs for the feature extractor network\n",
        "  inputs=Input(inputShape)\n",
        "  \n",
        "\n",
        "  outputs=faceNet(inputs)\n",
        "\n",
        "  #build the model\n",
        "  model=Model(inputs,outputs)\n",
        "\n",
        "  #return the model to the calling function\n",
        "  return model"
      ],
      "execution_count": null,
      "outputs": []
    },
    {
      "cell_type": "code",
      "metadata": {
        "id": "N4-wdp4gCPpo"
      },
      "source": [
        "import tensorflow.keras.backend as K\n",
        "import matplotlib.pyplot as plt\n",
        "import numpy as np"
      ],
      "execution_count": null,
      "outputs": []
    },
    {
      "cell_type": "code",
      "metadata": {
        "id": "Fp_-Zi46Dyyy"
      },
      "source": [
        "def euclidean_distance(vectors):\n",
        "\t# unpack the vectors into separate lists\n",
        "\t(featsA, featsB) = vectors\n",
        "\t# compute the sum of squared distances between the vectors\n",
        "\tsumSquared = K.sum(K.square(featsA - featsB), axis=1,\n",
        "\t\tkeepdims=True)\n",
        "\t# return the euclidean distance between the vectors\n",
        "\treturn K.sqrt(K.maximum(sumSquared, K.epsilon()))"
      ],
      "execution_count": null,
      "outputs": []
    },
    {
      "cell_type": "code",
      "metadata": {
        "id": "4gJLG8_jD4sa"
      },
      "source": [
        "def plot_training(H, plotPath):\n",
        "\t# construct a plot that plots and saves the training history\n",
        "\tplt.style.use(\"ggplot\")\n",
        "\tplt.figure()\n",
        "\tplt.plot(H.history[\"loss\"], label=\"train_loss\")\n",
        "\tplt.plot(H.history[\"val_loss\"], label=\"val_loss\")\n",
        "\tplt.plot(H.history[\"accuracy\"], label=\"train_acc\")\n",
        "\tplt.plot(H.history[\"val_accuracy\"], label=\"val_acc\")\n",
        "\tplt.title(\"Training Loss and Accuracy\")\n",
        "\tplt.xlabel(\"Epoch #\")\n",
        "\tplt.ylabel(\"Loss/Accuracy\")\n",
        "\tplt.legend(loc=\"lower left\")\n",
        "\tplt.savefig(plotPath)"
      ],
      "execution_count": null,
      "outputs": []
    },
    {
      "cell_type": "code",
      "metadata": {
        "id": "ZW0vUhzpD9Aw"
      },
      "source": [
        "from tensorflow.keras.models import Model\n",
        "from tensorflow.keras.layers import Dense\n",
        "from tensorflow.keras.layers import Input \n",
        "from tensorflow.keras.layers import Lambda\n",
        "from tensorflow.keras.datasets import mnist\n",
        "import numpy as np"
      ],
      "execution_count": null,
      "outputs": []
    },
    {
      "cell_type": "code",
      "metadata": {
        "id": "63IeliZQEBLl"
      },
      "source": [
        "imgA=Input(shape=IMG_SHAPE)\n",
        "imgB=Input(shape=IMG_SHAPE)\n",
        "\n",
        "featureExtractor=build_siamese_model(IMG_SHAPE)\n",
        "featsA=featureExtractor(imgA)\n",
        "featsB=featureExtractor(imgB)"
      ],
      "execution_count": null,
      "outputs": []
    },
    {
      "cell_type": "code",
      "metadata": {
        "id": "QGWmoWliEHQt"
      },
      "source": [
        "#finally construct the siamese network\n",
        "\n",
        "distance=Lambda(euclidean_distance)([featsA,featsB])\n",
        "outputs=Dense(1,activation=\"sigmoid\")(distance)\n",
        "model=Model(inputs=[imgA,imgB],outputs=outputs)"
      ],
      "execution_count": null,
      "outputs": []
    },
    {
      "cell_type": "markdown",
      "metadata": {
        "id": "kdrDTe3Jou11"
      },
      "source": [
        "#### Preprocess the data into image pairs"
      ]
    },
    {
      "cell_type": "code",
      "metadata": {
        "colab": {
          "base_uri": "https://localhost:8080/"
        },
        "id": "0WY0semHo7gI",
        "outputId": "8098c018-b206-4f52-817b-f8efb81ad8ca"
      },
      "source": [
        "# Extract zipped data\n",
        "from zipfile import ZipFile\n",
        "file_name=path=\"/content/drive/MyDrive/Datasets/TrainSet.zip\"\n",
        "\n",
        "with ZipFile(file_name,'r') as zip:\n",
        "  zip.extractall('/tmp')\n",
        "  print('Done')"
      ],
      "execution_count": null,
      "outputs": [
        {
          "output_type": "stream",
          "text": [
            "Done\n"
          ],
          "name": "stdout"
        }
      ]
    },
    {
      "cell_type": "code",
      "metadata": {
        "colab": {
          "base_uri": "https://localhost:8080/"
        },
        "id": "Ik9yhQw2pCar",
        "outputId": "acdb6e4e-8467-4208-e40a-e9de886e0acc"
      },
      "source": [
        "from zipfile import ZipFile\n",
        "file_name=path=\"/content/drive/MyDrive/Datasets/TestSet.zip\"\n",
        "\n",
        "with ZipFile(file_name,'r') as zip:\n",
        "  zip.extractall('/tmp')\n",
        "  print('Done')"
      ],
      "execution_count": null,
      "outputs": [
        {
          "output_type": "stream",
          "text": [
            "Done\n"
          ],
          "name": "stdout"
        }
      ]
    },
    {
      "cell_type": "code",
      "metadata": {
        "id": "0fwtalfkpGE3"
      },
      "source": [
        "import os\n",
        "import cv2\n",
        "from os import listdir\n",
        "import numpy as np\n",
        "trainingPath=\"/tmp/EXTRACTED_FACES-train/\"\n",
        "Trainimages=np.zeros(shape=(1361,160,160,3))\n",
        "Trainlabels=[]\n",
        "count=0\n",
        "for folder in listdir(trainingPath):\n",
        "  \n",
        "  \n",
        "  for file in listdir(trainingPath+folder):\n",
        "    path=trainingPath+folder+'/'+file\n",
        "    img=cv2.imread(path)\n",
        "    Trainimages[count]=img\n",
        "    count+=1\n",
        "    \n",
        "    \n",
        "    # Trainimages.append(cv2.imread(path))\n",
        "    # Trainimages.append(np.array(cv2.imread(path)))\n",
        "    Trainlabels.append(folder)\n",
        "    "
      ],
      "execution_count": null,
      "outputs": []
    },
    {
      "cell_type": "code",
      "metadata": {
        "id": "EzVXkCCt2xrZ"
      },
      "source": [
        "Trainimages=Trainimages/255.0"
      ],
      "execution_count": null,
      "outputs": []
    },
    {
      "cell_type": "code",
      "metadata": {
        "id": "2xG1QFWjph0u"
      },
      "source": [
        "Trainlabels=np.array(Trainlabels)"
      ],
      "execution_count": null,
      "outputs": []
    },
    {
      "cell_type": "code",
      "metadata": {
        "id": "ivqznqZ6pmwM"
      },
      "source": [
        "from sklearn.preprocessing import LabelEncoder\n",
        "from numpy import array\n",
        "\n",
        "label_encoder = LabelEncoder()\n",
        "Trainlabels=label_encoder.fit_transform(Trainlabels)"
      ],
      "execution_count": null,
      "outputs": []
    },
    {
      "cell_type": "code",
      "metadata": {
        "id": "VDzILJ7yprb-"
      },
      "source": [
        "testPath=\"/tmp/EXTRACTED-FACES-test/\"\n",
        "Testimages=np.zeros(shape=(113,160,160,3))\n",
        "Testlabels=[]\n",
        "count=0\n",
        "for folder in listdir(testPath):\n",
        "  \n",
        "  \n",
        "  for file in listdir(testPath+folder):\n",
        "    path=testPath+folder+'/'+file\n",
        "    img=cv2.imread(path)\n",
        "    Testimages[count]=img\n",
        "    count+=1\n",
        "    \n",
        "    \n",
        "    # Trainimages.append(cv2.imread(path))\n",
        "    # Trainimages.append(np.array(cv2.imread(path)))\n",
        "    Testlabels.append(folder)"
      ],
      "execution_count": null,
      "outputs": []
    },
    {
      "cell_type": "code",
      "metadata": {
        "id": "8ihzO2PC27XT"
      },
      "source": [
        "Testimages=Testimages/255.0"
      ],
      "execution_count": null,
      "outputs": []
    },
    {
      "cell_type": "code",
      "metadata": {
        "id": "yGgK2HyRp2bm"
      },
      "source": [
        "Testlabels=np.array(Testlabels)"
      ],
      "execution_count": null,
      "outputs": []
    },
    {
      "cell_type": "code",
      "metadata": {
        "id": "JE-jJpznp7rh"
      },
      "source": [
        "Testlabels=label_encoder.fit_transform(Testlabels)"
      ],
      "execution_count": null,
      "outputs": []
    },
    {
      "cell_type": "code",
      "metadata": {
        "id": "dBFPTjWcqCaG"
      },
      "source": [
        "def make_pairs(images,labels):\n",
        "  pairImages=[]\n",
        "  pairLabels=[]\n",
        "\n",
        "  numClasses=len(np.unique(labels))\n",
        "  idx=[np.where(labels==i)[0] for i in range(0,numClasses) ]\n",
        "\n",
        "  for idxA in range(len(images)):\n",
        "    currentImage=images[idxA]\n",
        "    label=labels[idxA]\n",
        "\n",
        "    idxB=np.random.choice(idx[label])\n",
        "    posImage=images[idxB]\n",
        "\n",
        "    pairImages.append([currentImage,posImage])\n",
        "    pairLabels.append([1])\n",
        "\n",
        "    negIdx=np.where(labels!=label)[0]\n",
        "    negImage=images[np.random.choice(negIdx)]\n",
        "\n",
        "    pairImages.append([currentImage,negImage])\n",
        "    pairLabels.append([0])\n",
        "\n",
        "  return (np.array(pairImages),np.array(pairLabels))"
      ],
      "execution_count": null,
      "outputs": []
    },
    {
      "cell_type": "code",
      "metadata": {
        "id": "w2knDqy6qHWJ"
      },
      "source": [
        "(pairTrain, labelTrain) = make_pairs(Trainimages, Trainlabels)\n",
        "(pairTest, labelTest) = make_pairs(Testimages, Testlabels)"
      ],
      "execution_count": null,
      "outputs": []
    },
    {
      "cell_type": "code",
      "metadata": {
        "colab": {
          "base_uri": "https://localhost:8080/"
        },
        "id": "mLdeWdj7EL5q",
        "outputId": "1780dde9-ef91-49e9-ba5a-1e820f6b1730"
      },
      "source": [
        "print(\"[INFO] compiling model...\")\n",
        "model.compile(loss=\"binary_crossentropy\", optimizer=\"adam\",\n",
        "\tmetrics=[\"accuracy\"])\n",
        "# train the model\n",
        "print(\"[INFO] training model...\")\n",
        "history = model.fit(\n",
        "\t[pairTrain[:, 0], pairTrain[:, 1]], labelTrain[:],\n",
        "\tvalidation_data=([pairTest[:, 0], pairTest[:, 1]], labelTest[:]),batch_size=20, \n",
        "\tepochs=300\n",
        "\t)"
      ],
      "execution_count": null,
      "outputs": [
        {
          "output_type": "stream",
          "text": [
            "[INFO] compiling model...\n",
            "[INFO] training model...\n",
            "Epoch 1/300\n",
            "137/137 [==============================] - 56s 124ms/step - loss: 3.4598 - accuracy: 0.5000 - val_loss: 2.8924 - val_accuracy: 0.5531\n",
            "Epoch 2/300\n",
            "137/137 [==============================] - 12s 91ms/step - loss: 2.8061 - accuracy: 0.5000 - val_loss: 2.2868 - val_accuracy: 0.5531\n",
            "Epoch 3/300\n",
            "137/137 [==============================] - 12s 88ms/step - loss: 2.1484 - accuracy: 0.5000 - val_loss: 1.6937 - val_accuracy: 0.5531\n",
            "Epoch 4/300\n",
            "137/137 [==============================] - 12s 87ms/step - loss: 1.5224 - accuracy: 0.5004 - val_loss: 1.1466 - val_accuracy: 0.5531\n",
            "Epoch 5/300\n",
            "137/137 [==============================] - 12s 90ms/step - loss: 0.9935 - accuracy: 0.5051 - val_loss: 0.7438 - val_accuracy: 0.5531\n",
            "Epoch 6/300\n",
            "137/137 [==============================] - 12s 86ms/step - loss: 0.6846 - accuracy: 0.5081 - val_loss: 0.5887 - val_accuracy: 0.5575\n",
            "Epoch 7/300\n",
            "137/137 [==============================] - 12s 87ms/step - loss: 0.5965 - accuracy: 0.5463 - val_loss: 0.5668 - val_accuracy: 0.6018\n",
            "Epoch 8/300\n",
            "137/137 [==============================] - 12s 87ms/step - loss: 0.5831 - accuracy: 0.6256 - val_loss: 0.5636 - val_accuracy: 0.6460\n",
            "Epoch 9/300\n",
            "137/137 [==============================] - 12s 88ms/step - loss: 0.5796 - accuracy: 0.6613 - val_loss: 0.5600 - val_accuracy: 0.6681\n",
            "Epoch 10/300\n",
            "137/137 [==============================] - 12s 90ms/step - loss: 0.5763 - accuracy: 0.6800 - val_loss: 0.5565 - val_accuracy: 0.7035\n",
            "Epoch 11/300\n",
            "137/137 [==============================] - 12s 90ms/step - loss: 0.5724 - accuracy: 0.6969 - val_loss: 0.5517 - val_accuracy: 0.6814\n",
            "Epoch 12/300\n",
            "137/137 [==============================] - 12s 87ms/step - loss: 0.5685 - accuracy: 0.7186 - val_loss: 0.5474 - val_accuracy: 0.7080\n",
            "Epoch 13/300\n",
            "137/137 [==============================] - 12s 86ms/step - loss: 0.5643 - accuracy: 0.7292 - val_loss: 0.5427 - val_accuracy: 0.7345\n",
            "Epoch 14/300\n",
            "137/137 [==============================] - 12s 87ms/step - loss: 0.5600 - accuracy: 0.7325 - val_loss: 0.5376 - val_accuracy: 0.7212\n",
            "Epoch 15/300\n",
            "137/137 [==============================] - 12s 88ms/step - loss: 0.5553 - accuracy: 0.7267 - val_loss: 0.5334 - val_accuracy: 0.7788\n",
            "Epoch 16/300\n",
            "137/137 [==============================] - 12s 86ms/step - loss: 0.5504 - accuracy: 0.7730 - val_loss: 0.5280 - val_accuracy: 0.7788\n",
            "Epoch 17/300\n",
            "137/137 [==============================] - 12s 89ms/step - loss: 0.5457 - accuracy: 0.7627 - val_loss: 0.5234 - val_accuracy: 0.8053\n",
            "Epoch 18/300\n",
            "137/137 [==============================] - 12s 90ms/step - loss: 0.5407 - accuracy: 0.7818 - val_loss: 0.5177 - val_accuracy: 0.8097\n",
            "Epoch 19/300\n",
            "137/137 [==============================] - 12s 91ms/step - loss: 0.5359 - accuracy: 0.7829 - val_loss: 0.5119 - val_accuracy: 0.8053\n",
            "Epoch 20/300\n",
            "137/137 [==============================] - 12s 91ms/step - loss: 0.5300 - accuracy: 0.7979 - val_loss: 0.5069 - val_accuracy: 0.8230\n",
            "Epoch 21/300\n",
            "137/137 [==============================] - 12s 89ms/step - loss: 0.5250 - accuracy: 0.8156 - val_loss: 0.5007 - val_accuracy: 0.8230\n",
            "Epoch 22/300\n",
            "137/137 [==============================] - 12s 87ms/step - loss: 0.5199 - accuracy: 0.8189 - val_loss: 0.4953 - val_accuracy: 0.8230\n",
            "Epoch 23/300\n",
            "137/137 [==============================] - 12s 87ms/step - loss: 0.5143 - accuracy: 0.8104 - val_loss: 0.4908 - val_accuracy: 0.8805\n",
            "Epoch 24/300\n",
            "137/137 [==============================] - 12s 87ms/step - loss: 0.5097 - accuracy: 0.8406 - val_loss: 0.4836 - val_accuracy: 0.8319\n",
            "Epoch 25/300\n",
            "137/137 [==============================] - 12s 88ms/step - loss: 0.5041 - accuracy: 0.8343 - val_loss: 0.4786 - val_accuracy: 0.8805\n",
            "Epoch 26/300\n",
            "137/137 [==============================] - 12s 86ms/step - loss: 0.4984 - accuracy: 0.8479 - val_loss: 0.4727 - val_accuracy: 0.8761\n",
            "Epoch 27/300\n",
            "137/137 [==============================] - 12s 85ms/step - loss: 0.4931 - accuracy: 0.8479 - val_loss: 0.4669 - val_accuracy: 0.8805\n",
            "Epoch 28/300\n",
            "137/137 [==============================] - 12s 86ms/step - loss: 0.4879 - accuracy: 0.8468 - val_loss: 0.4623 - val_accuracy: 0.8982\n",
            "Epoch 29/300\n",
            "137/137 [==============================] - 12s 87ms/step - loss: 0.4826 - accuracy: 0.8582 - val_loss: 0.4565 - val_accuracy: 0.8982\n",
            "Epoch 30/300\n",
            "137/137 [==============================] - 12s 86ms/step - loss: 0.4772 - accuracy: 0.8615 - val_loss: 0.4508 - val_accuracy: 0.8982\n",
            "Epoch 31/300\n",
            "137/137 [==============================] - 12s 90ms/step - loss: 0.4724 - accuracy: 0.8699 - val_loss: 0.4467 - val_accuracy: 0.9292\n",
            "Epoch 32/300\n",
            "137/137 [==============================] - 12s 91ms/step - loss: 0.4669 - accuracy: 0.8751 - val_loss: 0.4398 - val_accuracy: 0.8982\n",
            "Epoch 33/300\n",
            "137/137 [==============================] - 12s 89ms/step - loss: 0.4616 - accuracy: 0.8703 - val_loss: 0.4350 - val_accuracy: 0.9115\n",
            "Epoch 34/300\n",
            "137/137 [==============================] - 12s 91ms/step - loss: 0.4572 - accuracy: 0.8714 - val_loss: 0.4304 - val_accuracy: 0.9292\n",
            "Epoch 35/300\n",
            "137/137 [==============================] - 12s 88ms/step - loss: 0.4512 - accuracy: 0.8758 - val_loss: 0.4250 - val_accuracy: 0.9292\n",
            "Epoch 36/300\n",
            "137/137 [==============================] - 12s 87ms/step - loss: 0.4475 - accuracy: 0.8755 - val_loss: 0.4200 - val_accuracy: 0.9292\n",
            "Epoch 37/300\n",
            "137/137 [==============================] - 12s 87ms/step - loss: 0.4424 - accuracy: 0.8810 - val_loss: 0.4161 - val_accuracy: 0.9469\n",
            "Epoch 38/300\n",
            "137/137 [==============================] - 12s 87ms/step - loss: 0.4378 - accuracy: 0.8857 - val_loss: 0.4101 - val_accuracy: 0.9336\n",
            "Epoch 39/300\n",
            "137/137 [==============================] - 12s 90ms/step - loss: 0.4329 - accuracy: 0.8880 - val_loss: 0.4065 - val_accuracy: 0.9469\n",
            "Epoch 40/300\n",
            "137/137 [==============================] - 12s 89ms/step - loss: 0.4284 - accuracy: 0.8902 - val_loss: 0.4017 - val_accuracy: 0.9469\n",
            "Epoch 41/300\n",
            "137/137 [==============================] - 12s 87ms/step - loss: 0.4244 - accuracy: 0.8887 - val_loss: 0.3968 - val_accuracy: 0.9469\n",
            "Epoch 42/300\n",
            "137/137 [==============================] - 12s 90ms/step - loss: 0.4198 - accuracy: 0.8927 - val_loss: 0.3919 - val_accuracy: 0.9425\n",
            "Epoch 43/300\n",
            "137/137 [==============================] - 13s 92ms/step - loss: 0.4158 - accuracy: 0.8935 - val_loss: 0.3877 - val_accuracy: 0.9469\n",
            "Epoch 44/300\n",
            "137/137 [==============================] - 13s 91ms/step - loss: 0.4112 - accuracy: 0.8931 - val_loss: 0.3840 - val_accuracy: 0.9513\n",
            "Epoch 45/300\n",
            "137/137 [==============================] - 12s 88ms/step - loss: 0.4076 - accuracy: 0.8946 - val_loss: 0.3790 - val_accuracy: 0.9469\n",
            "Epoch 46/300\n",
            "137/137 [==============================] - 12s 88ms/step - loss: 0.4033 - accuracy: 0.8953 - val_loss: 0.3754 - val_accuracy: 0.9513\n",
            "Epoch 47/300\n",
            "137/137 [==============================] - 12s 90ms/step - loss: 0.3998 - accuracy: 0.9004 - val_loss: 0.3709 - val_accuracy: 0.9336\n",
            "Epoch 48/300\n",
            "137/137 [==============================] - 12s 88ms/step - loss: 0.3958 - accuracy: 0.8997 - val_loss: 0.3680 - val_accuracy: 0.9469\n",
            "Epoch 49/300\n",
            "137/137 [==============================] - 12s 91ms/step - loss: 0.3917 - accuracy: 0.9030 - val_loss: 0.3637 - val_accuracy: 0.9513\n",
            "Epoch 50/300\n",
            "137/137 [==============================] - 12s 87ms/step - loss: 0.3876 - accuracy: 0.8986 - val_loss: 0.3599 - val_accuracy: 0.9513\n",
            "Epoch 51/300\n",
            "137/137 [==============================] - 12s 91ms/step - loss: 0.3850 - accuracy: 0.9030 - val_loss: 0.3560 - val_accuracy: 0.9513\n",
            "Epoch 52/300\n",
            "137/137 [==============================] - 12s 89ms/step - loss: 0.3819 - accuracy: 0.9008 - val_loss: 0.3531 - val_accuracy: 0.9513\n",
            "Epoch 53/300\n",
            "137/137 [==============================] - 12s 87ms/step - loss: 0.3781 - accuracy: 0.9041 - val_loss: 0.3497 - val_accuracy: 0.9513\n",
            "Epoch 54/300\n",
            "137/137 [==============================] - 12s 87ms/step - loss: 0.3743 - accuracy: 0.9067 - val_loss: 0.3453 - val_accuracy: 0.9469\n",
            "Epoch 55/300\n",
            "137/137 [==============================] - 12s 89ms/step - loss: 0.3715 - accuracy: 0.9012 - val_loss: 0.3421 - val_accuracy: 0.9513\n",
            "Epoch 56/300\n",
            "137/137 [==============================] - 12s 88ms/step - loss: 0.3681 - accuracy: 0.9004 - val_loss: 0.3391 - val_accuracy: 0.9469\n",
            "Epoch 57/300\n",
            "137/137 [==============================] - 12s 91ms/step - loss: 0.3659 - accuracy: 0.9030 - val_loss: 0.3358 - val_accuracy: 0.9469\n",
            "Epoch 58/300\n",
            "137/137 [==============================] - 12s 91ms/step - loss: 0.3622 - accuracy: 0.9048 - val_loss: 0.3330 - val_accuracy: 0.9513\n",
            "Epoch 59/300\n",
            "137/137 [==============================] - 13s 92ms/step - loss: 0.3595 - accuracy: 0.9063 - val_loss: 0.3295 - val_accuracy: 0.9469\n",
            "Epoch 60/300\n",
            "137/137 [==============================] - 12s 88ms/step - loss: 0.3563 - accuracy: 0.9001 - val_loss: 0.3269 - val_accuracy: 0.9469\n",
            "Epoch 61/300\n",
            "137/137 [==============================] - 12s 88ms/step - loss: 0.3532 - accuracy: 0.9060 - val_loss: 0.3244 - val_accuracy: 0.9513\n",
            "Epoch 62/300\n",
            "137/137 [==============================] - 12s 88ms/step - loss: 0.3502 - accuracy: 0.9078 - val_loss: 0.3214 - val_accuracy: 0.9469\n",
            "Epoch 63/300\n",
            "137/137 [==============================] - 12s 89ms/step - loss: 0.3481 - accuracy: 0.9126 - val_loss: 0.3179 - val_accuracy: 0.9469\n",
            "Epoch 64/300\n",
            "137/137 [==============================] - 13s 91ms/step - loss: 0.3460 - accuracy: 0.9082 - val_loss: 0.3153 - val_accuracy: 0.9513\n",
            "Epoch 65/300\n",
            "137/137 [==============================] - 12s 87ms/step - loss: 0.3432 - accuracy: 0.9063 - val_loss: 0.3127 - val_accuracy: 0.9469\n",
            "Epoch 66/300\n",
            "137/137 [==============================] - 12s 91ms/step - loss: 0.3401 - accuracy: 0.9071 - val_loss: 0.3108 - val_accuracy: 0.9558\n",
            "Epoch 67/300\n",
            "137/137 [==============================] - 12s 88ms/step - loss: 0.3382 - accuracy: 0.9111 - val_loss: 0.3075 - val_accuracy: 0.9469\n",
            "Epoch 68/300\n",
            "137/137 [==============================] - 12s 90ms/step - loss: 0.3340 - accuracy: 0.9129 - val_loss: 0.3049 - val_accuracy: 0.9469\n",
            "Epoch 69/300\n",
            "137/137 [==============================] - 12s 88ms/step - loss: 0.3334 - accuracy: 0.9074 - val_loss: 0.3028 - val_accuracy: 0.9513\n",
            "Epoch 70/300\n",
            "137/137 [==============================] - 12s 91ms/step - loss: 0.3310 - accuracy: 0.9052 - val_loss: 0.3011 - val_accuracy: 0.9513\n",
            "Epoch 71/300\n",
            "137/137 [==============================] - 12s 88ms/step - loss: 0.3284 - accuracy: 0.9107 - val_loss: 0.2979 - val_accuracy: 0.9513\n",
            "Epoch 72/300\n",
            "137/137 [==============================] - 12s 90ms/step - loss: 0.3266 - accuracy: 0.9133 - val_loss: 0.2953 - val_accuracy: 0.9469\n",
            "Epoch 73/300\n",
            "137/137 [==============================] - 13s 92ms/step - loss: 0.3237 - accuracy: 0.9052 - val_loss: 0.2936 - val_accuracy: 0.9558\n",
            "Epoch 74/300\n",
            "137/137 [==============================] - 12s 88ms/step - loss: 0.3226 - accuracy: 0.9104 - val_loss: 0.2907 - val_accuracy: 0.9469\n",
            "Epoch 75/300\n",
            "137/137 [==============================] - 12s 88ms/step - loss: 0.3210 - accuracy: 0.9096 - val_loss: 0.2887 - val_accuracy: 0.9513\n",
            "Epoch 76/300\n",
            "137/137 [==============================] - 12s 91ms/step - loss: 0.3183 - accuracy: 0.9115 - val_loss: 0.2869 - val_accuracy: 0.9558\n",
            "Epoch 77/300\n",
            "137/137 [==============================] - 12s 90ms/step - loss: 0.3151 - accuracy: 0.9118 - val_loss: 0.2845 - val_accuracy: 0.9513\n",
            "Epoch 78/300\n",
            "137/137 [==============================] - 12s 88ms/step - loss: 0.3143 - accuracy: 0.9104 - val_loss: 0.2829 - val_accuracy: 0.9558\n",
            "Epoch 79/300\n",
            "137/137 [==============================] - 12s 88ms/step - loss: 0.3127 - accuracy: 0.9129 - val_loss: 0.2809 - val_accuracy: 0.9513\n",
            "Epoch 80/300\n",
            "137/137 [==============================] - 12s 88ms/step - loss: 0.3110 - accuracy: 0.9140 - val_loss: 0.2786 - val_accuracy: 0.9558\n",
            "Epoch 81/300\n",
            "137/137 [==============================] - 12s 91ms/step - loss: 0.3081 - accuracy: 0.9162 - val_loss: 0.2766 - val_accuracy: 0.9558\n",
            "Epoch 82/300\n",
            "137/137 [==============================] - 13s 92ms/step - loss: 0.3069 - accuracy: 0.9093 - val_loss: 0.2751 - val_accuracy: 0.9513\n",
            "Epoch 83/300\n",
            "137/137 [==============================] - 12s 90ms/step - loss: 0.3047 - accuracy: 0.9155 - val_loss: 0.2731 - val_accuracy: 0.9558\n",
            "Epoch 84/300\n",
            "137/137 [==============================] - 12s 91ms/step - loss: 0.3046 - accuracy: 0.9096 - val_loss: 0.2711 - val_accuracy: 0.9558\n",
            "Epoch 85/300\n",
            "137/137 [==============================] - 12s 88ms/step - loss: 0.3021 - accuracy: 0.9045 - val_loss: 0.2707 - val_accuracy: 0.9513\n",
            "Epoch 86/300\n",
            "137/137 [==============================] - 13s 92ms/step - loss: 0.3004 - accuracy: 0.9144 - val_loss: 0.2679 - val_accuracy: 0.9513\n",
            "Epoch 87/300\n",
            "137/137 [==============================] - 12s 88ms/step - loss: 0.2985 - accuracy: 0.9140 - val_loss: 0.2662 - val_accuracy: 0.9513\n",
            "Epoch 88/300\n",
            "137/137 [==============================] - 12s 88ms/step - loss: 0.2972 - accuracy: 0.9133 - val_loss: 0.2643 - val_accuracy: 0.9469\n",
            "Epoch 89/300\n",
            "137/137 [==============================] - 12s 88ms/step - loss: 0.2974 - accuracy: 0.9148 - val_loss: 0.2628 - val_accuracy: 0.9558\n",
            "Epoch 90/300\n",
            "137/137 [==============================] - 12s 91ms/step - loss: 0.2956 - accuracy: 0.9118 - val_loss: 0.2621 - val_accuracy: 0.9513\n",
            "Epoch 91/300\n",
            "137/137 [==============================] - 13s 92ms/step - loss: 0.2935 - accuracy: 0.9118 - val_loss: 0.2599 - val_accuracy: 0.9513\n",
            "Epoch 92/300\n",
            "137/137 [==============================] - 12s 88ms/step - loss: 0.2921 - accuracy: 0.9122 - val_loss: 0.2589 - val_accuracy: 0.9513\n",
            "Epoch 93/300\n",
            "137/137 [==============================] - 12s 90ms/step - loss: 0.2899 - accuracy: 0.9126 - val_loss: 0.2567 - val_accuracy: 0.9558\n",
            "Epoch 94/300\n",
            "137/137 [==============================] - 12s 89ms/step - loss: 0.2889 - accuracy: 0.9126 - val_loss: 0.2558 - val_accuracy: 0.9513\n",
            "Epoch 95/300\n",
            "137/137 [==============================] - 13s 92ms/step - loss: 0.2874 - accuracy: 0.9155 - val_loss: 0.2546 - val_accuracy: 0.9513\n",
            "Epoch 96/300\n",
            "137/137 [==============================] - 12s 91ms/step - loss: 0.2866 - accuracy: 0.9162 - val_loss: 0.2524 - val_accuracy: 0.9558\n",
            "Epoch 97/300\n",
            "137/137 [==============================] - 12s 90ms/step - loss: 0.2864 - accuracy: 0.9162 - val_loss: 0.2516 - val_accuracy: 0.9513\n",
            "Epoch 98/300\n",
            "137/137 [==============================] - 12s 89ms/step - loss: 0.2846 - accuracy: 0.9122 - val_loss: 0.2500 - val_accuracy: 0.9513\n",
            "Epoch 99/300\n",
            "137/137 [==============================] - 12s 87ms/step - loss: 0.2827 - accuracy: 0.9133 - val_loss: 0.2493 - val_accuracy: 0.9513\n",
            "Epoch 100/300\n",
            "137/137 [==============================] - 12s 91ms/step - loss: 0.2812 - accuracy: 0.9184 - val_loss: 0.2472 - val_accuracy: 0.9513\n",
            "Epoch 101/300\n",
            "137/137 [==============================] - 12s 91ms/step - loss: 0.2806 - accuracy: 0.9140 - val_loss: 0.2461 - val_accuracy: 0.9513\n",
            "Epoch 102/300\n",
            "137/137 [==============================] - 12s 88ms/step - loss: 0.2794 - accuracy: 0.9129 - val_loss: 0.2445 - val_accuracy: 0.9558\n",
            "Epoch 103/300\n",
            "137/137 [==============================] - 12s 87ms/step - loss: 0.2787 - accuracy: 0.9170 - val_loss: 0.2436 - val_accuracy: 0.9513\n",
            "Epoch 104/300\n",
            "137/137 [==============================] - 12s 91ms/step - loss: 0.2762 - accuracy: 0.9118 - val_loss: 0.2424 - val_accuracy: 0.9513\n",
            "Epoch 105/300\n",
            "137/137 [==============================] - 12s 88ms/step - loss: 0.2769 - accuracy: 0.9162 - val_loss: 0.2411 - val_accuracy: 0.9513\n",
            "Epoch 106/300\n",
            "137/137 [==============================] - 12s 88ms/step - loss: 0.2760 - accuracy: 0.9144 - val_loss: 0.2397 - val_accuracy: 0.9513\n",
            "Epoch 107/300\n",
            "137/137 [==============================] - 12s 88ms/step - loss: 0.2739 - accuracy: 0.9148 - val_loss: 0.2386 - val_accuracy: 0.9513\n",
            "Epoch 108/300\n",
            "137/137 [==============================] - 12s 89ms/step - loss: 0.2743 - accuracy: 0.9155 - val_loss: 0.2376 - val_accuracy: 0.9513\n",
            "Epoch 109/300\n",
            "137/137 [==============================] - 12s 91ms/step - loss: 0.2722 - accuracy: 0.9159 - val_loss: 0.2367 - val_accuracy: 0.9513\n",
            "Epoch 110/300\n",
            "137/137 [==============================] - 13s 92ms/step - loss: 0.2722 - accuracy: 0.9148 - val_loss: 0.2354 - val_accuracy: 0.9513\n",
            "Epoch 111/300\n",
            "137/137 [==============================] - 12s 87ms/step - loss: 0.2706 - accuracy: 0.9151 - val_loss: 0.2354 - val_accuracy: 0.9513\n",
            "Epoch 112/300\n",
            "137/137 [==============================] - 12s 90ms/step - loss: 0.2700 - accuracy: 0.9122 - val_loss: 0.2330 - val_accuracy: 0.9513\n",
            "Epoch 113/300\n",
            "137/137 [==============================] - 12s 88ms/step - loss: 0.2696 - accuracy: 0.9155 - val_loss: 0.2323 - val_accuracy: 0.9513\n",
            "Epoch 114/300\n",
            "137/137 [==============================] - 12s 87ms/step - loss: 0.2677 - accuracy: 0.9129 - val_loss: 0.2319 - val_accuracy: 0.9469\n",
            "Epoch 115/300\n",
            "137/137 [==============================] - 12s 88ms/step - loss: 0.2654 - accuracy: 0.9181 - val_loss: 0.2300 - val_accuracy: 0.9513\n",
            "Epoch 116/300\n",
            "137/137 [==============================] - 12s 91ms/step - loss: 0.2652 - accuracy: 0.9177 - val_loss: 0.2290 - val_accuracy: 0.9513\n",
            "Epoch 117/300\n",
            "137/137 [==============================] - 12s 88ms/step - loss: 0.2647 - accuracy: 0.9162 - val_loss: 0.2282 - val_accuracy: 0.9513\n",
            "Epoch 118/300\n",
            "137/137 [==============================] - 13s 92ms/step - loss: 0.2637 - accuracy: 0.9140 - val_loss: 0.2272 - val_accuracy: 0.9513\n",
            "Epoch 119/300\n",
            "137/137 [==============================] - 13s 92ms/step - loss: 0.2620 - accuracy: 0.9173 - val_loss: 0.2263 - val_accuracy: 0.9513\n",
            "Epoch 120/300\n",
            "137/137 [==============================] - 12s 91ms/step - loss: 0.2617 - accuracy: 0.9166 - val_loss: 0.2252 - val_accuracy: 0.9513\n",
            "Epoch 121/300\n",
            "137/137 [==============================] - 12s 87ms/step - loss: 0.2622 - accuracy: 0.9104 - val_loss: 0.2248 - val_accuracy: 0.9513\n",
            "Epoch 122/300\n",
            "137/137 [==============================] - 12s 91ms/step - loss: 0.2598 - accuracy: 0.9140 - val_loss: 0.2239 - val_accuracy: 0.9513\n",
            "Epoch 123/300\n",
            "137/137 [==============================] - 12s 91ms/step - loss: 0.2602 - accuracy: 0.9144 - val_loss: 0.2240 - val_accuracy: 0.9602\n",
            "Epoch 124/300\n",
            "137/137 [==============================] - 12s 88ms/step - loss: 0.2604 - accuracy: 0.9166 - val_loss: 0.2216 - val_accuracy: 0.9513\n",
            "Epoch 125/300\n",
            "137/137 [==============================] - 12s 89ms/step - loss: 0.2588 - accuracy: 0.9184 - val_loss: 0.2211 - val_accuracy: 0.9513\n",
            "Epoch 126/300\n",
            "137/137 [==============================] - 12s 91ms/step - loss: 0.2586 - accuracy: 0.9129 - val_loss: 0.2206 - val_accuracy: 0.9513\n",
            "Epoch 127/300\n",
            "137/137 [==============================] - 12s 88ms/step - loss: 0.2578 - accuracy: 0.9159 - val_loss: 0.2194 - val_accuracy: 0.9513\n",
            "Epoch 128/300\n",
            "137/137 [==============================] - 13s 91ms/step - loss: 0.2568 - accuracy: 0.9159 - val_loss: 0.2184 - val_accuracy: 0.9513\n",
            "Epoch 129/300\n",
            "137/137 [==============================] - 13s 92ms/step - loss: 0.2562 - accuracy: 0.9129 - val_loss: 0.2185 - val_accuracy: 0.9558\n",
            "Epoch 130/300\n",
            "137/137 [==============================] - 12s 89ms/step - loss: 0.2546 - accuracy: 0.9140 - val_loss: 0.2170 - val_accuracy: 0.9513\n",
            "Epoch 131/300\n",
            "137/137 [==============================] - 12s 89ms/step - loss: 0.2551 - accuracy: 0.9177 - val_loss: 0.2163 - val_accuracy: 0.9513\n",
            "Epoch 132/300\n",
            "137/137 [==============================] - 12s 88ms/step - loss: 0.2536 - accuracy: 0.9162 - val_loss: 0.2157 - val_accuracy: 0.9513\n",
            "Epoch 133/300\n",
            "137/137 [==============================] - 12s 91ms/step - loss: 0.2538 - accuracy: 0.9148 - val_loss: 0.2145 - val_accuracy: 0.9513\n",
            "Epoch 134/300\n",
            "137/137 [==============================] - 12s 89ms/step - loss: 0.2535 - accuracy: 0.9151 - val_loss: 0.2142 - val_accuracy: 0.9469\n",
            "Epoch 135/300\n",
            "137/137 [==============================] - 12s 88ms/step - loss: 0.2523 - accuracy: 0.9181 - val_loss: 0.2130 - val_accuracy: 0.9513\n",
            "Epoch 136/300\n",
            "137/137 [==============================] - 13s 92ms/step - loss: 0.2536 - accuracy: 0.9137 - val_loss: 0.2125 - val_accuracy: 0.9513\n",
            "Epoch 137/300\n",
            "137/137 [==============================] - 12s 88ms/step - loss: 0.2502 - accuracy: 0.9162 - val_loss: 0.2125 - val_accuracy: 0.9558\n",
            "Epoch 138/300\n",
            "137/137 [==============================] - 12s 88ms/step - loss: 0.2513 - accuracy: 0.9162 - val_loss: 0.2117 - val_accuracy: 0.9513\n",
            "Epoch 139/300\n",
            "137/137 [==============================] - 13s 92ms/step - loss: 0.2493 - accuracy: 0.9173 - val_loss: 0.2103 - val_accuracy: 0.9513\n",
            "Epoch 140/300\n",
            "137/137 [==============================] - 12s 89ms/step - loss: 0.2500 - accuracy: 0.9118 - val_loss: 0.2098 - val_accuracy: 0.9513\n",
            "Epoch 141/300\n",
            "137/137 [==============================] - 12s 89ms/step - loss: 0.2487 - accuracy: 0.9192 - val_loss: 0.2092 - val_accuracy: 0.9513\n",
            "Epoch 142/300\n",
            "137/137 [==============================] - 12s 88ms/step - loss: 0.2488 - accuracy: 0.9148 - val_loss: 0.2085 - val_accuracy: 0.9513\n",
            "Epoch 143/300\n",
            "137/137 [==============================] - 12s 89ms/step - loss: 0.2465 - accuracy: 0.9184 - val_loss: 0.2078 - val_accuracy: 0.9513\n",
            "Epoch 144/300\n",
            "137/137 [==============================] - 12s 91ms/step - loss: 0.2471 - accuracy: 0.9137 - val_loss: 0.2081 - val_accuracy: 0.9602\n",
            "Epoch 145/300\n",
            "137/137 [==============================] - 12s 88ms/step - loss: 0.2470 - accuracy: 0.9177 - val_loss: 0.2067 - val_accuracy: 0.9513\n",
            "Epoch 146/300\n",
            "137/137 [==============================] - 12s 87ms/step - loss: 0.2472 - accuracy: 0.9184 - val_loss: 0.2058 - val_accuracy: 0.9513\n",
            "Epoch 147/300\n",
            "137/137 [==============================] - 13s 91ms/step - loss: 0.2457 - accuracy: 0.9133 - val_loss: 0.2053 - val_accuracy: 0.9513\n",
            "Epoch 148/300\n",
            "137/137 [==============================] - 12s 87ms/step - loss: 0.2451 - accuracy: 0.9170 - val_loss: 0.2046 - val_accuracy: 0.9513\n",
            "Epoch 149/300\n",
            "137/137 [==============================] - 12s 88ms/step - loss: 0.2457 - accuracy: 0.9129 - val_loss: 0.2044 - val_accuracy: 0.9469\n",
            "Epoch 150/300\n",
            "137/137 [==============================] - 12s 88ms/step - loss: 0.2455 - accuracy: 0.9162 - val_loss: 0.2036 - val_accuracy: 0.9513\n",
            "Epoch 151/300\n",
            "137/137 [==============================] - 12s 88ms/step - loss: 0.2430 - accuracy: 0.9155 - val_loss: 0.2028 - val_accuracy: 0.9513\n",
            "Epoch 152/300\n",
            "137/137 [==============================] - 12s 88ms/step - loss: 0.2451 - accuracy: 0.9159 - val_loss: 0.2031 - val_accuracy: 0.9602\n",
            "Epoch 153/300\n",
            "137/137 [==============================] - 12s 91ms/step - loss: 0.2440 - accuracy: 0.9173 - val_loss: 0.2020 - val_accuracy: 0.9469\n",
            "Epoch 154/300\n",
            "137/137 [==============================] - 12s 88ms/step - loss: 0.2435 - accuracy: 0.9126 - val_loss: 0.2014 - val_accuracy: 0.9513\n",
            "Epoch 155/300\n",
            "137/137 [==============================] - 13s 92ms/step - loss: 0.2440 - accuracy: 0.9122 - val_loss: 0.2011 - val_accuracy: 0.9513\n",
            "Epoch 156/300\n",
            "137/137 [==============================] - 12s 89ms/step - loss: 0.2409 - accuracy: 0.9177 - val_loss: 0.2005 - val_accuracy: 0.9513\n",
            "Epoch 157/300\n",
            "137/137 [==============================] - 12s 89ms/step - loss: 0.2419 - accuracy: 0.9177 - val_loss: 0.1997 - val_accuracy: 0.9513\n",
            "Epoch 158/300\n",
            "137/137 [==============================] - 12s 88ms/step - loss: 0.2405 - accuracy: 0.9184 - val_loss: 0.1997 - val_accuracy: 0.9558\n",
            "Epoch 159/300\n",
            "137/137 [==============================] - 12s 90ms/step - loss: 0.2417 - accuracy: 0.9115 - val_loss: 0.1995 - val_accuracy: 0.9602\n",
            "Epoch 160/300\n",
            "137/137 [==============================] - 13s 92ms/step - loss: 0.2399 - accuracy: 0.9159 - val_loss: 0.1996 - val_accuracy: 0.9558\n",
            "Epoch 161/300\n",
            "137/137 [==============================] - 12s 90ms/step - loss: 0.2396 - accuracy: 0.9159 - val_loss: 0.1981 - val_accuracy: 0.9513\n",
            "Epoch 162/300\n",
            "137/137 [==============================] - 12s 91ms/step - loss: 0.2395 - accuracy: 0.9173 - val_loss: 0.1974 - val_accuracy: 0.9469\n",
            "Epoch 163/300\n",
            "137/137 [==============================] - 12s 91ms/step - loss: 0.2387 - accuracy: 0.9140 - val_loss: 0.1969 - val_accuracy: 0.9513\n",
            "Epoch 164/300\n",
            "137/137 [==============================] - 13s 92ms/step - loss: 0.2387 - accuracy: 0.9170 - val_loss: 0.1966 - val_accuracy: 0.9513\n",
            "Epoch 165/300\n",
            "137/137 [==============================] - 13s 92ms/step - loss: 0.2380 - accuracy: 0.9184 - val_loss: 0.1966 - val_accuracy: 0.9602\n",
            "Epoch 166/300\n",
            "137/137 [==============================] - 12s 90ms/step - loss: 0.2388 - accuracy: 0.9177 - val_loss: 0.1963 - val_accuracy: 0.9602\n",
            "Epoch 167/300\n",
            "137/137 [==============================] - 12s 89ms/step - loss: 0.2388 - accuracy: 0.9192 - val_loss: 0.1950 - val_accuracy: 0.9513\n",
            "Epoch 168/300\n",
            "137/137 [==============================] - 12s 88ms/step - loss: 0.2377 - accuracy: 0.9140 - val_loss: 0.1948 - val_accuracy: 0.9513\n",
            "Epoch 169/300\n",
            "137/137 [==============================] - 13s 94ms/step - loss: 0.2378 - accuracy: 0.9144 - val_loss: 0.1947 - val_accuracy: 0.9602\n",
            "Epoch 170/300\n",
            "137/137 [==============================] - 12s 89ms/step - loss: 0.2387 - accuracy: 0.9126 - val_loss: 0.1937 - val_accuracy: 0.9513\n",
            "Epoch 171/300\n",
            "137/137 [==============================] - 12s 89ms/step - loss: 0.2374 - accuracy: 0.9140 - val_loss: 0.1933 - val_accuracy: 0.9513\n",
            "Epoch 172/300\n",
            "137/137 [==============================] - 13s 92ms/step - loss: 0.2360 - accuracy: 0.9155 - val_loss: 0.1935 - val_accuracy: 0.9602\n",
            "Epoch 173/300\n",
            "137/137 [==============================] - 12s 89ms/step - loss: 0.2346 - accuracy: 0.9148 - val_loss: 0.1931 - val_accuracy: 0.9602\n",
            "Epoch 174/300\n",
            "137/137 [==============================] - 13s 93ms/step - loss: 0.2361 - accuracy: 0.9151 - val_loss: 0.1920 - val_accuracy: 0.9513\n",
            "Epoch 175/300\n",
            "137/137 [==============================] - 13s 93ms/step - loss: 0.2357 - accuracy: 0.9177 - val_loss: 0.1919 - val_accuracy: 0.9513\n",
            "Epoch 176/300\n",
            "137/137 [==============================] - 12s 89ms/step - loss: 0.2375 - accuracy: 0.9133 - val_loss: 0.1916 - val_accuracy: 0.9558\n",
            "Epoch 177/300\n",
            "137/137 [==============================] - 12s 89ms/step - loss: 0.2349 - accuracy: 0.9162 - val_loss: 0.1913 - val_accuracy: 0.9602\n",
            "Epoch 178/300\n",
            "137/137 [==============================] - 12s 90ms/step - loss: 0.2350 - accuracy: 0.9159 - val_loss: 0.1911 - val_accuracy: 0.9602\n",
            "Epoch 179/300\n",
            "137/137 [==============================] - 13s 93ms/step - loss: 0.2370 - accuracy: 0.9126 - val_loss: 0.1909 - val_accuracy: 0.9602\n",
            "Epoch 180/300\n",
            "137/137 [==============================] - 13s 93ms/step - loss: 0.2340 - accuracy: 0.9192 - val_loss: 0.1899 - val_accuracy: 0.9513\n",
            "Epoch 181/300\n",
            "137/137 [==============================] - 12s 89ms/step - loss: 0.2328 - accuracy: 0.9126 - val_loss: 0.1894 - val_accuracy: 0.9469\n",
            "Epoch 182/300\n",
            "137/137 [==============================] - 13s 92ms/step - loss: 0.2335 - accuracy: 0.9181 - val_loss: 0.1890 - val_accuracy: 0.9469\n",
            "Epoch 183/300\n",
            "137/137 [==============================] - 12s 89ms/step - loss: 0.2318 - accuracy: 0.9159 - val_loss: 0.1887 - val_accuracy: 0.9469\n",
            "Epoch 184/300\n",
            "137/137 [==============================] - 12s 89ms/step - loss: 0.2317 - accuracy: 0.9184 - val_loss: 0.1888 - val_accuracy: 0.9602\n",
            "Epoch 185/300\n",
            "137/137 [==============================] - 12s 89ms/step - loss: 0.2329 - accuracy: 0.9148 - val_loss: 0.1879 - val_accuracy: 0.9469\n",
            "Epoch 186/300\n",
            "137/137 [==============================] - 12s 88ms/step - loss: 0.2321 - accuracy: 0.9162 - val_loss: 0.1878 - val_accuracy: 0.9558\n",
            "Epoch 187/300\n",
            "137/137 [==============================] - 12s 89ms/step - loss: 0.2338 - accuracy: 0.9133 - val_loss: 0.1877 - val_accuracy: 0.9602\n",
            "Epoch 188/300\n",
            "137/137 [==============================] - 12s 89ms/step - loss: 0.2309 - accuracy: 0.9151 - val_loss: 0.1869 - val_accuracy: 0.9469\n",
            "Epoch 189/300\n",
            "137/137 [==============================] - 12s 90ms/step - loss: 0.2315 - accuracy: 0.9148 - val_loss: 0.1866 - val_accuracy: 0.9469\n",
            "Epoch 190/300\n",
            "137/137 [==============================] - 13s 92ms/step - loss: 0.2305 - accuracy: 0.9144 - val_loss: 0.1867 - val_accuracy: 0.9602\n",
            "Epoch 191/300\n",
            "137/137 [==============================] - 12s 90ms/step - loss: 0.2320 - accuracy: 0.9151 - val_loss: 0.1863 - val_accuracy: 0.9602\n",
            "Epoch 192/300\n",
            "137/137 [==============================] - 12s 89ms/step - loss: 0.2306 - accuracy: 0.9184 - val_loss: 0.1858 - val_accuracy: 0.9602\n",
            "Epoch 193/300\n",
            "137/137 [==============================] - 13s 92ms/step - loss: 0.2302 - accuracy: 0.9166 - val_loss: 0.1859 - val_accuracy: 0.9602\n",
            "Epoch 194/300\n",
            "137/137 [==============================] - 12s 90ms/step - loss: 0.2299 - accuracy: 0.9159 - val_loss: 0.1850 - val_accuracy: 0.9513\n",
            "Epoch 195/300\n",
            "137/137 [==============================] - 13s 94ms/step - loss: 0.2300 - accuracy: 0.9137 - val_loss: 0.1851 - val_accuracy: 0.9602\n",
            "Epoch 196/300\n",
            "137/137 [==============================] - 12s 90ms/step - loss: 0.2305 - accuracy: 0.9162 - val_loss: 0.1846 - val_accuracy: 0.9602\n",
            "Epoch 197/300\n",
            "137/137 [==============================] - 12s 89ms/step - loss: 0.2291 - accuracy: 0.9203 - val_loss: 0.1841 - val_accuracy: 0.9558\n",
            "Epoch 198/300\n",
            "137/137 [==============================] - 12s 89ms/step - loss: 0.2294 - accuracy: 0.9181 - val_loss: 0.1836 - val_accuracy: 0.9513\n",
            "Epoch 199/300\n",
            "137/137 [==============================] - 13s 92ms/step - loss: 0.2289 - accuracy: 0.9151 - val_loss: 0.1834 - val_accuracy: 0.9513\n",
            "Epoch 200/300\n",
            "137/137 [==============================] - 13s 92ms/step - loss: 0.2302 - accuracy: 0.9177 - val_loss: 0.1831 - val_accuracy: 0.9513\n",
            "Epoch 201/300\n",
            "137/137 [==============================] - 12s 90ms/step - loss: 0.2280 - accuracy: 0.9126 - val_loss: 0.1827 - val_accuracy: 0.9469\n",
            "Epoch 202/300\n",
            "137/137 [==============================] - 13s 93ms/step - loss: 0.2283 - accuracy: 0.9162 - val_loss: 0.1825 - val_accuracy: 0.9513\n",
            "Epoch 203/300\n",
            "137/137 [==============================] - 12s 90ms/step - loss: 0.2267 - accuracy: 0.9184 - val_loss: 0.1823 - val_accuracy: 0.9558\n",
            "Epoch 204/300\n",
            "137/137 [==============================] - 12s 89ms/step - loss: 0.2282 - accuracy: 0.9144 - val_loss: 0.1825 - val_accuracy: 0.9602\n",
            "Epoch 205/300\n",
            "137/137 [==============================] - 12s 89ms/step - loss: 0.2260 - accuracy: 0.9159 - val_loss: 0.1819 - val_accuracy: 0.9602\n",
            "Epoch 206/300\n",
            "137/137 [==============================] - 13s 92ms/step - loss: 0.2268 - accuracy: 0.9192 - val_loss: 0.1818 - val_accuracy: 0.9602\n",
            "Epoch 207/300\n",
            "137/137 [==============================] - 13s 93ms/step - loss: 0.2274 - accuracy: 0.9159 - val_loss: 0.1811 - val_accuracy: 0.9513\n",
            "Epoch 208/300\n",
            "137/137 [==============================] - 13s 92ms/step - loss: 0.2274 - accuracy: 0.9188 - val_loss: 0.1806 - val_accuracy: 0.9513\n",
            "Epoch 209/300\n",
            "137/137 [==============================] - 12s 89ms/step - loss: 0.2272 - accuracy: 0.9170 - val_loss: 0.1803 - val_accuracy: 0.9513\n",
            "Epoch 210/300\n",
            "137/137 [==============================] - 12s 88ms/step - loss: 0.2264 - accuracy: 0.9148 - val_loss: 0.1803 - val_accuracy: 0.9558\n",
            "Epoch 211/300\n",
            "137/137 [==============================] - 13s 93ms/step - loss: 0.2254 - accuracy: 0.9162 - val_loss: 0.1799 - val_accuracy: 0.9513\n",
            "Epoch 212/300\n",
            "137/137 [==============================] - 12s 90ms/step - loss: 0.2275 - accuracy: 0.9144 - val_loss: 0.1795 - val_accuracy: 0.9513\n",
            "Epoch 213/300\n",
            "137/137 [==============================] - 12s 91ms/step - loss: 0.2256 - accuracy: 0.9192 - val_loss: 0.1792 - val_accuracy: 0.9513\n",
            "Epoch 214/300\n",
            "137/137 [==============================] - 13s 93ms/step - loss: 0.2263 - accuracy: 0.9155 - val_loss: 0.1790 - val_accuracy: 0.9469\n",
            "Epoch 215/300\n",
            "137/137 [==============================] - 12s 90ms/step - loss: 0.2260 - accuracy: 0.9115 - val_loss: 0.1789 - val_accuracy: 0.9558\n",
            "Epoch 216/300\n",
            "137/137 [==============================] - 12s 90ms/step - loss: 0.2274 - accuracy: 0.9159 - val_loss: 0.1795 - val_accuracy: 0.9558\n",
            "Epoch 217/300\n",
            "137/137 [==============================] - 12s 89ms/step - loss: 0.2264 - accuracy: 0.9181 - val_loss: 0.1791 - val_accuracy: 0.9558\n",
            "Epoch 218/300\n",
            "137/137 [==============================] - 12s 90ms/step - loss: 0.2246 - accuracy: 0.9166 - val_loss: 0.1785 - val_accuracy: 0.9602\n",
            "Epoch 219/300\n",
            "137/137 [==============================] - 12s 90ms/step - loss: 0.2256 - accuracy: 0.9133 - val_loss: 0.1784 - val_accuracy: 0.9558\n",
            "Epoch 220/300\n",
            "137/137 [==============================] - 12s 91ms/step - loss: 0.2254 - accuracy: 0.9166 - val_loss: 0.1779 - val_accuracy: 0.9602\n",
            "Epoch 221/300\n",
            "137/137 [==============================] - 12s 90ms/step - loss: 0.2254 - accuracy: 0.9118 - val_loss: 0.1779 - val_accuracy: 0.9602\n",
            "Epoch 222/300\n",
            "137/137 [==============================] - 12s 90ms/step - loss: 0.2258 - accuracy: 0.9144 - val_loss: 0.1772 - val_accuracy: 0.9602\n",
            "Epoch 223/300\n",
            "137/137 [==============================] - 12s 90ms/step - loss: 0.2242 - accuracy: 0.9214 - val_loss: 0.1770 - val_accuracy: 0.9602\n",
            "Epoch 224/300\n",
            "137/137 [==============================] - 13s 92ms/step - loss: 0.2233 - accuracy: 0.9181 - val_loss: 0.1767 - val_accuracy: 0.9602\n",
            "Epoch 225/300\n",
            "137/137 [==============================] - 13s 96ms/step - loss: 0.2239 - accuracy: 0.9140 - val_loss: 0.1766 - val_accuracy: 0.9602\n",
            "Epoch 226/300\n",
            "137/137 [==============================] - 13s 94ms/step - loss: 0.2242 - accuracy: 0.9192 - val_loss: 0.1763 - val_accuracy: 0.9602\n",
            "Epoch 227/300\n",
            "137/137 [==============================] - 12s 91ms/step - loss: 0.2247 - accuracy: 0.9148 - val_loss: 0.1763 - val_accuracy: 0.9602\n",
            "Epoch 228/300\n",
            "137/137 [==============================] - 13s 94ms/step - loss: 0.2229 - accuracy: 0.9144 - val_loss: 0.1766 - val_accuracy: 0.9558\n",
            "Epoch 229/300\n",
            "137/137 [==============================] - 12s 91ms/step - loss: 0.2248 - accuracy: 0.9144 - val_loss: 0.1753 - val_accuracy: 0.9469\n",
            "Epoch 230/300\n",
            "137/137 [==============================] - 13s 92ms/step - loss: 0.2231 - accuracy: 0.9151 - val_loss: 0.1752 - val_accuracy: 0.9558\n",
            "Epoch 231/300\n",
            "137/137 [==============================] - 12s 90ms/step - loss: 0.2243 - accuracy: 0.9177 - val_loss: 0.1749 - val_accuracy: 0.9513\n",
            "Epoch 232/300\n",
            "137/137 [==============================] - 13s 95ms/step - loss: 0.2237 - accuracy: 0.9140 - val_loss: 0.1748 - val_accuracy: 0.9558\n",
            "Epoch 233/300\n",
            "137/137 [==============================] - 13s 93ms/step - loss: 0.2227 - accuracy: 0.9159 - val_loss: 0.1748 - val_accuracy: 0.9602\n",
            "Epoch 234/300\n",
            "137/137 [==============================] - 12s 90ms/step - loss: 0.2213 - accuracy: 0.9173 - val_loss: 0.1744 - val_accuracy: 0.9558\n",
            "Epoch 235/300\n",
            "137/137 [==============================] - 13s 94ms/step - loss: 0.2220 - accuracy: 0.9184 - val_loss: 0.1747 - val_accuracy: 0.9558\n",
            "Epoch 236/300\n",
            "137/137 [==============================] - 13s 93ms/step - loss: 0.2210 - accuracy: 0.9195 - val_loss: 0.1738 - val_accuracy: 0.9513\n",
            "Epoch 237/300\n",
            "137/137 [==============================] - 13s 93ms/step - loss: 0.2213 - accuracy: 0.9170 - val_loss: 0.1737 - val_accuracy: 0.9558\n",
            "Epoch 238/300\n",
            "137/137 [==============================] - 12s 89ms/step - loss: 0.2199 - accuracy: 0.9181 - val_loss: 0.1734 - val_accuracy: 0.9513\n",
            "Epoch 239/300\n",
            "137/137 [==============================] - 12s 90ms/step - loss: 0.2238 - accuracy: 0.9129 - val_loss: 0.1733 - val_accuracy: 0.9558\n",
            "Epoch 240/300\n",
            "137/137 [==============================] - 13s 93ms/step - loss: 0.2224 - accuracy: 0.9173 - val_loss: 0.1733 - val_accuracy: 0.9602\n",
            "Epoch 241/300\n",
            "137/137 [==============================] - 12s 91ms/step - loss: 0.2213 - accuracy: 0.9166 - val_loss: 0.1728 - val_accuracy: 0.9513\n",
            "Epoch 242/300\n",
            "137/137 [==============================] - 13s 94ms/step - loss: 0.2195 - accuracy: 0.9162 - val_loss: 0.1731 - val_accuracy: 0.9602\n",
            "Epoch 243/300\n",
            "137/137 [==============================] - 12s 90ms/step - loss: 0.2209 - accuracy: 0.9173 - val_loss: 0.1725 - val_accuracy: 0.9558\n",
            "Epoch 244/300\n",
            "137/137 [==============================] - 13s 95ms/step - loss: 0.2202 - accuracy: 0.9155 - val_loss: 0.1728 - val_accuracy: 0.9558\n",
            "Epoch 245/300\n",
            "137/137 [==============================] - 13s 94ms/step - loss: 0.2226 - accuracy: 0.9173 - val_loss: 0.1722 - val_accuracy: 0.9602\n",
            "Epoch 246/300\n",
            "137/137 [==============================] - 12s 91ms/step - loss: 0.2232 - accuracy: 0.9155 - val_loss: 0.1719 - val_accuracy: 0.9602\n",
            "Epoch 247/300\n",
            "137/137 [==============================] - 12s 90ms/step - loss: 0.2216 - accuracy: 0.9151 - val_loss: 0.1716 - val_accuracy: 0.9513\n",
            "Epoch 248/300\n",
            "137/137 [==============================] - 13s 92ms/step - loss: 0.2228 - accuracy: 0.9144 - val_loss: 0.1716 - val_accuracy: 0.9602\n",
            "Epoch 249/300\n",
            "137/137 [==============================] - 13s 92ms/step - loss: 0.2226 - accuracy: 0.9188 - val_loss: 0.1712 - val_accuracy: 0.9513\n",
            "Epoch 250/300\n",
            "137/137 [==============================] - 13s 95ms/step - loss: 0.2223 - accuracy: 0.9133 - val_loss: 0.1712 - val_accuracy: 0.9602\n",
            "Epoch 251/300\n",
            "137/137 [==============================] - 13s 92ms/step - loss: 0.2216 - accuracy: 0.9195 - val_loss: 0.1708 - val_accuracy: 0.9469\n",
            "Epoch 252/300\n",
            "137/137 [==============================] - 13s 92ms/step - loss: 0.2200 - accuracy: 0.9177 - val_loss: 0.1708 - val_accuracy: 0.9602\n",
            "Epoch 253/300\n",
            "137/137 [==============================] - 13s 92ms/step - loss: 0.2227 - accuracy: 0.9159 - val_loss: 0.1706 - val_accuracy: 0.9602\n",
            "Epoch 254/300\n",
            "137/137 [==============================] - 13s 94ms/step - loss: 0.2208 - accuracy: 0.9155 - val_loss: 0.1710 - val_accuracy: 0.9558\n",
            "Epoch 255/300\n",
            "137/137 [==============================] - 13s 92ms/step - loss: 0.2190 - accuracy: 0.9166 - val_loss: 0.1701 - val_accuracy: 0.9513\n",
            "Epoch 256/300\n",
            "137/137 [==============================] - 13s 96ms/step - loss: 0.2198 - accuracy: 0.9195 - val_loss: 0.1700 - val_accuracy: 0.9513\n",
            "Epoch 257/300\n",
            "137/137 [==============================] - 12s 91ms/step - loss: 0.2195 - accuracy: 0.9148 - val_loss: 0.1700 - val_accuracy: 0.9602\n",
            "Epoch 258/300\n",
            "137/137 [==============================] - 13s 92ms/step - loss: 0.2185 - accuracy: 0.9173 - val_loss: 0.1697 - val_accuracy: 0.9602\n",
            "Epoch 259/300\n",
            "137/137 [==============================] - 12s 91ms/step - loss: 0.2173 - accuracy: 0.9173 - val_loss: 0.1694 - val_accuracy: 0.9513\n",
            "Epoch 260/300\n",
            "137/137 [==============================] - 12s 91ms/step - loss: 0.2200 - accuracy: 0.9184 - val_loss: 0.1692 - val_accuracy: 0.9469\n",
            "Epoch 261/300\n",
            "137/137 [==============================] - 13s 93ms/step - loss: 0.2198 - accuracy: 0.9199 - val_loss: 0.1690 - val_accuracy: 0.9513\n",
            "Epoch 262/300\n",
            "137/137 [==============================] - 13s 95ms/step - loss: 0.2184 - accuracy: 0.9140 - val_loss: 0.1695 - val_accuracy: 0.9558\n",
            "Epoch 263/300\n",
            "137/137 [==============================] - 13s 96ms/step - loss: 0.2192 - accuracy: 0.9148 - val_loss: 0.1687 - val_accuracy: 0.9469\n",
            "Epoch 264/300\n",
            "137/137 [==============================] - 13s 92ms/step - loss: 0.2185 - accuracy: 0.9155 - val_loss: 0.1689 - val_accuracy: 0.9602\n",
            "Epoch 265/300\n",
            "137/137 [==============================] - 13s 94ms/step - loss: 0.2178 - accuracy: 0.9173 - val_loss: 0.1683 - val_accuracy: 0.9469\n",
            "Epoch 266/300\n",
            "137/137 [==============================] - 13s 94ms/step - loss: 0.2197 - accuracy: 0.9173 - val_loss: 0.1682 - val_accuracy: 0.9513\n",
            "Epoch 267/300\n",
            "137/137 [==============================] - 13s 95ms/step - loss: 0.2199 - accuracy: 0.9162 - val_loss: 0.1684 - val_accuracy: 0.9602\n",
            "Epoch 268/300\n",
            "137/137 [==============================] - 13s 96ms/step - loss: 0.2172 - accuracy: 0.9170 - val_loss: 0.1682 - val_accuracy: 0.9602\n",
            "Epoch 269/300\n",
            "137/137 [==============================] - 13s 96ms/step - loss: 0.2184 - accuracy: 0.9166 - val_loss: 0.1682 - val_accuracy: 0.9602\n",
            "Epoch 270/300\n",
            "137/137 [==============================] - 13s 94ms/step - loss: 0.2185 - accuracy: 0.9181 - val_loss: 0.1677 - val_accuracy: 0.9602\n",
            "Epoch 271/300\n",
            "137/137 [==============================] - 13s 97ms/step - loss: 0.2185 - accuracy: 0.9192 - val_loss: 0.1673 - val_accuracy: 0.9469\n",
            "Epoch 272/300\n",
            "137/137 [==============================] - 13s 94ms/step - loss: 0.2186 - accuracy: 0.9159 - val_loss: 0.1674 - val_accuracy: 0.9602\n",
            "Epoch 273/300\n",
            "137/137 [==============================] - 13s 93ms/step - loss: 0.2186 - accuracy: 0.9159 - val_loss: 0.1675 - val_accuracy: 0.9602\n",
            "Epoch 274/300\n",
            "137/137 [==============================] - 13s 94ms/step - loss: 0.2192 - accuracy: 0.9155 - val_loss: 0.1676 - val_accuracy: 0.9558\n",
            "Epoch 275/300\n",
            "137/137 [==============================] - 13s 97ms/step - loss: 0.2175 - accuracy: 0.9181 - val_loss: 0.1669 - val_accuracy: 0.9602\n",
            "Epoch 276/300\n",
            "137/137 [==============================] - 13s 96ms/step - loss: 0.2188 - accuracy: 0.9148 - val_loss: 0.1666 - val_accuracy: 0.9513\n",
            "Epoch 277/300\n",
            "137/137 [==============================] - 13s 97ms/step - loss: 0.2179 - accuracy: 0.9155 - val_loss: 0.1666 - val_accuracy: 0.9602\n",
            "Epoch 278/300\n",
            "137/137 [==============================] - 13s 94ms/step - loss: 0.2194 - accuracy: 0.9118 - val_loss: 0.1663 - val_accuracy: 0.9558\n",
            "Epoch 279/300\n",
            "137/137 [==============================] - 13s 96ms/step - loss: 0.2171 - accuracy: 0.9181 - val_loss: 0.1661 - val_accuracy: 0.9469\n",
            "Epoch 280/300\n",
            "137/137 [==============================] - 13s 95ms/step - loss: 0.2187 - accuracy: 0.9137 - val_loss: 0.1662 - val_accuracy: 0.9602\n",
            "Epoch 281/300\n",
            "137/137 [==============================] - 13s 95ms/step - loss: 0.2156 - accuracy: 0.9137 - val_loss: 0.1667 - val_accuracy: 0.9558\n",
            "Epoch 282/300\n",
            "137/137 [==============================] - 13s 97ms/step - loss: 0.2185 - accuracy: 0.9148 - val_loss: 0.1660 - val_accuracy: 0.9602\n",
            "Epoch 283/300\n",
            "137/137 [==============================] - 13s 98ms/step - loss: 0.2157 - accuracy: 0.9210 - val_loss: 0.1656 - val_accuracy: 0.9558\n",
            "Epoch 284/300\n",
            "137/137 [==============================] - 13s 96ms/step - loss: 0.2168 - accuracy: 0.9155 - val_loss: 0.1655 - val_accuracy: 0.9602\n",
            "Epoch 285/300\n",
            "137/137 [==============================] - 13s 96ms/step - loss: 0.2141 - accuracy: 0.9206 - val_loss: 0.1653 - val_accuracy: 0.9558\n",
            "Epoch 286/300\n",
            "137/137 [==============================] - 13s 98ms/step - loss: 0.2170 - accuracy: 0.9203 - val_loss: 0.1650 - val_accuracy: 0.9469\n",
            "Epoch 287/300\n",
            "137/137 [==============================] - 13s 97ms/step - loss: 0.2162 - accuracy: 0.9159 - val_loss: 0.1650 - val_accuracy: 0.9602\n",
            "Epoch 288/300\n",
            "137/137 [==============================] - 13s 95ms/step - loss: 0.2179 - accuracy: 0.9188 - val_loss: 0.1647 - val_accuracy: 0.9469\n",
            "Epoch 289/300\n",
            "137/137 [==============================] - 13s 95ms/step - loss: 0.2157 - accuracy: 0.9181 - val_loss: 0.1650 - val_accuracy: 0.9602\n",
            "Epoch 290/300\n",
            "137/137 [==============================] - 13s 97ms/step - loss: 0.2163 - accuracy: 0.9170 - val_loss: 0.1646 - val_accuracy: 0.9602\n",
            "Epoch 291/300\n",
            "137/137 [==============================] - 13s 95ms/step - loss: 0.2155 - accuracy: 0.9166 - val_loss: 0.1647 - val_accuracy: 0.9602\n",
            "Epoch 292/300\n",
            "137/137 [==============================] - 13s 96ms/step - loss: 0.2163 - accuracy: 0.9151 - val_loss: 0.1644 - val_accuracy: 0.9602\n",
            "Epoch 293/300\n",
            "137/137 [==============================] - 14s 99ms/step - loss: 0.2166 - accuracy: 0.9184 - val_loss: 0.1644 - val_accuracy: 0.9602\n",
            "Epoch 294/300\n",
            "137/137 [==============================] - 13s 95ms/step - loss: 0.2175 - accuracy: 0.9151 - val_loss: 0.1641 - val_accuracy: 0.9602\n",
            "Epoch 295/300\n",
            "137/137 [==============================] - 13s 98ms/step - loss: 0.2157 - accuracy: 0.9133 - val_loss: 0.1642 - val_accuracy: 0.9602\n",
            "Epoch 296/300\n",
            "137/137 [==============================] - 13s 98ms/step - loss: 0.2143 - accuracy: 0.9184 - val_loss: 0.1637 - val_accuracy: 0.9469\n",
            "Epoch 297/300\n",
            "137/137 [==============================] - 13s 99ms/step - loss: 0.2168 - accuracy: 0.9144 - val_loss: 0.1636 - val_accuracy: 0.9558\n",
            "Epoch 298/300\n",
            "137/137 [==============================] - 14s 99ms/step - loss: 0.2181 - accuracy: 0.9144 - val_loss: 0.1639 - val_accuracy: 0.9558\n",
            "Epoch 299/300\n",
            "137/137 [==============================] - 13s 96ms/step - loss: 0.2142 - accuracy: 0.9192 - val_loss: 0.1636 - val_accuracy: 0.9602\n",
            "Epoch 300/300\n",
            "137/137 [==============================] - 13s 95ms/step - loss: 0.2173 - accuracy: 0.9192 - val_loss: 0.1634 - val_accuracy: 0.9602\n"
          ],
          "name": "stdout"
        }
      ]
    },
    {
      "cell_type": "code",
      "metadata": {
        "colab": {
          "base_uri": "https://localhost:8080/",
          "height": 299
        },
        "id": "k_gmRScSERCs",
        "outputId": "cf7c662f-8a9f-4c18-87f8-ba2d4889e937"
      },
      "source": [
        "plot_training(history,PLOT_PATH)"
      ],
      "execution_count": null,
      "outputs": [
        {
          "output_type": "display_data",
          "data": {
            "image/png": "[encoded data removed]",
            "text/plain": [
              "<Figure size 432x288 with 1 Axes>"
            ]
          },
          "metadata": {
            "tags": []
          }
        }
      ]
    },
    {
      "cell_type": "code",
      "metadata": {
        "id": "E-xUTti_rI9Z"
      },
      "source": [
        "\n",
        "\n",
        "acc=history.history['accuracy']\n",
        "val_acc=history.history['val_accuracy']\n",
        "loss=history.history['loss']\n",
        "val_loss=history.history['val_loss']\n",
        "\n",
        "epochs=range(len(acc))"
      ],
      "execution_count": null,
      "outputs": []
    },
    {
      "cell_type": "code",
      "metadata": {
        "colab": {
          "base_uri": "https://localhost:8080/",
          "height": 513
        },
        "id": "I6aW8qY9rMye",
        "outputId": "61c12f3f-be25-4300-fcf6-b5f1e69989f5"
      },
      "source": [
        "import matplotlib.pyplot as plt\n",
        "\n",
        "plt.plot(epochs,loss,'bo',label=\"Training Loss\")\n",
        "plt.plot(epochs,val_loss,'r',label=\"Validation Loss\")\n",
        "plt.legend()\n",
        "plt.show()\n",
        "\n",
        "plt.plot(epochs,acc,'bo',label=\"Training Accuracy\")\n",
        "plt.plot(epochs,val_acc,'r',label=\"Validation Accuracy\")\n",
        "plt.legend()\n",
        "plt.show()"
      ],
      "execution_count": null,
      "outputs": [
        {
          "output_type": "display_data",
          "data": {
            "image/png": "[encoded data removed]",
            "text/plain": [
              "<Figure size 432x288 with 1 Axes>"
            ]
          },
          "metadata": {
            "tags": []
          }
        },
        {
          "output_type": "display_data",
          "data": {
            "image/png": "[encoded data removed]",
            "text/plain": [
              "<Figure size 432x288 with 1 Axes>"
            ]
          },
          "metadata": {
            "tags": []
          }
        }
      ]
    },
    {
      "cell_type": "code",
      "metadata": {
        "colab": {
          "base_uri": "https://localhost:8080/"
        },
        "id": "zWfbNZX_rVsl",
        "outputId": "fb3e16c1-ead5-4af6-e74c-79798b02ecab"
      },
      "source": [
        "model.summary()"
      ],
      "execution_count": null,
      "outputs": [
        {
          "output_type": "stream",
          "text": [
            "Model: \"model_1\"\n",
            "__________________________________________________________________________________________________\n",
            "Layer (type)                    Output Shape         Param #     Connected to                     \n",
            "==================================================================================================\n",
            "input_1 (InputLayer)            [(None, 160, 160, 3) 0                                            \n",
            "__________________________________________________________________________________________________\n",
            "input_2 (InputLayer)            [(None, 160, 160, 3) 0                                            \n",
            "__________________________________________________________________________________________________\n",
            "model (Functional)              (None, 128)          22808144    input_1[0][0]                    \n",
            "                                                                 input_2[0][0]                    \n",
            "__________________________________________________________________________________________________\n",
            "lambda (Lambda)                 (None, 1)            0           model[0][0]                      \n",
            "                                                                 model[1][0]                      \n",
            "__________________________________________________________________________________________________\n",
            "dense (Dense)                   (None, 1)            2           lambda[0][0]                     \n",
            "==================================================================================================\n",
            "Total params: 22,808,146\n",
            "Trainable params: 2\n",
            "Non-trainable params: 22,808,144\n",
            "__________________________________________________________________________________________________\n"
          ],
          "name": "stdout"
        }
      ]
    },
    {
      "cell_type": "code",
      "metadata": {
        "id": "NSrdpRGZWiC-"
      },
      "source": [
        "BASE_OUTPUT='/content/drive/MyDrive/Datasets/'\n",
        "\n",
        "#use the base output to derive the path to the serialized\n",
        "#model along with training history plot\n",
        "\n",
        "MODEL_PATH=os.path.sep.join([BASE_OUTPUT,\"siamese_model\"])"
      ],
      "execution_count": null,
      "outputs": []
    },
    {
      "cell_type": "code",
      "metadata": {
        "colab": {
          "base_uri": "https://localhost:8080/"
        },
        "id": "n-KLTac1rb4R",
        "outputId": "19a047b6-fb08-43c8-9c4c-a841ce491bc5"
      },
      "source": [
        "model.save(MODEL_PATH)"
      ],
      "execution_count": null,
      "outputs": [
        {
          "output_type": "stream",
          "text": [
            "INFO:tensorflow:Assets written to: /content/drive/MyDrive/Datasets//siamese_model/assets\n"
          ],
          "name": "stdout"
        }
      ]
    },
    {
      "cell_type": "code",
      "metadata": {
        "colab": {
          "base_uri": "https://localhost:8080/"
        },
        "id": "NKpmhXPKrvdP",
        "outputId": "8c9f6f30-d670-4686-e6dc-f512f5763916"
      },
      "source": [
        "model2=Model(model.input,model.layers[0].output)\n",
        "model2.summary()"
      ],
      "execution_count": null,
      "outputs": [
        {
          "output_type": "stream",
          "text": [
            "Model: \"model_14\"\n",
            "__________________________________________________________________________________________________\n",
            "Layer (type)                    Output Shape         Param #     Connected to                     \n",
            "==================================================================================================\n",
            "input_2 (InputLayer)            [(None, 160, 160, 3) 0                                            \n",
            "__________________________________________________________________________________________________\n",
            "input_1 (InputLayer)            [(None, 160, 160, 3) 0                                            \n",
            "==================================================================================================\n",
            "Total params: 0\n",
            "Trainable params: 0\n",
            "Non-trainable params: 0\n",
            "__________________________________________________________________________________________________\n"
          ],
          "name": "stdout"
        }
      ]
    },
    {
      "cell_type": "code",
      "metadata": {
        "id": "42LoPyvvryw0"
      },
      "source": [
        ""
      ],
      "execution_count": null,
      "outputs": []
    }
  ]
}